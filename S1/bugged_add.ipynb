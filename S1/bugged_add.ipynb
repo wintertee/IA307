{
  "nbformat": 4,
  "nbformat_minor": 0,
  "metadata": {
    "colab": {
      "provenance": []
    },
    "kernelspec": {
      "name": "python3",
      "display_name": "Python 3"
    },
    "accelerator": "GPU"
  },
  "cells": [
    {
      "cell_type": "markdown",
      "metadata": {
        "id": "pumkepYMMsms"
      },
      "source": [
        "# Raw code"
      ]
    },
    {
      "cell_type": "code",
      "metadata": {
        "id": "BPJbeZDPyP8l",
        "colab": {
          "base_uri": "https://localhost:8080/"
        },
        "outputId": "7f8a8ca2-8184-4434-b5fe-7a903c1679ae"
      },
      "source": [
        "%%writefile raw_add.cu\n",
        "#include <stdio.h>\n",
        "#include <stdlib.h>\n",
        "\n",
        "__global__ void add(int a, int b, int *res) {\n",
        "  *res = a + b;\n",
        "}\n",
        "\n",
        "\n",
        "int main() {\n",
        "  int res=0;\n",
        "  int *d_res = NULL;\n",
        "\n",
        "  // Launch add() kernel on GPU\n",
        "  add<<<1,1>>>(2, 2, d_res);\n",
        "\n",
        "  cudaMemcpy(&res, d_res, sizeof(int), cudaMemcpyDeviceToHost);\n",
        "  printf(\"2 + 2 = %d\\n\", res);\n",
        "\n",
        "  return EXIT_SUCCESS;\n",
        "}"
      ],
      "execution_count": null,
      "outputs": [
        {
          "output_type": "stream",
          "name": "stdout",
          "text": [
            "Writing raw_add.cu\n"
          ]
        }
      ]
    },
    {
      "cell_type": "code",
      "source": [
        "!nvcc raw_add.cu -o raw_add"
      ],
      "metadata": {
        "id": "_9O0k9r8jrpy"
      },
      "execution_count": null,
      "outputs": []
    },
    {
      "cell_type": "code",
      "source": [
        "!./raw_add"
      ],
      "metadata": {
        "colab": {
          "base_uri": "https://localhost:8080/"
        },
        "id": "s23SzGZE8nVI",
        "outputId": "6740f415-3fe7-4333-9a8d-9558ea012cdd"
      },
      "execution_count": null,
      "outputs": [
        {
          "output_type": "stream",
          "name": "stdout",
          "text": [
            "2 + 2 = 0\n"
          ]
        }
      ]
    },
    {
      "cell_type": "markdown",
      "source": [
        "# Debugging"
      ],
      "metadata": {
        "id": "-jnJMpwBq9nO"
      }
    },
    {
      "cell_type": "code",
      "source": [
        "%%writefile add.cu\n",
        "#include <stdio.h>\n",
        "#include <stdlib.h>\n",
        "\n",
        "__global__ void add(int a, int b, int *res) {\n",
        "  *res = a + b;\n",
        "}\n",
        "int main() {\n",
        "  int res=0;\n",
        "  int *d_res = NULL;\n",
        "\n",
        "  // Launch add() kernel on GPU\n",
        "  add<<<1,1>>>(2, 2, d_res);\n",
        "\n",
        "  cudaMemcpy(&res, d_res, sizeof(int), cudaMemcpyDeviceToHost);\n",
        "  printf(\"2 + 2 = %d\\n\", res);\n",
        "\n",
        "  return EXIT_SUCCESS;\n",
        "}"
      ],
      "metadata": {
        "colab": {
          "base_uri": "https://localhost:8080/"
        },
        "id": "tede2oIE68ao",
        "outputId": "24d57c2c-00c4-4b84-d998-8fb40bcad91b"
      },
      "execution_count": null,
      "outputs": [
        {
          "output_type": "stream",
          "name": "stdout",
          "text": [
            "Writing add.cu\n"
          ]
        }
      ]
    },
    {
      "cell_type": "code",
      "source": [
        "! nvcc -g -G add.cu -o add"
      ],
      "metadata": {
        "id": "Ic6RU__w9Z_Y"
      },
      "execution_count": null,
      "outputs": []
    },
    {
      "cell_type": "code",
      "source": [
        "%%writefile debug_instructions.txt\n",
        "set cuda memcheck on\n",
        "set cuda api_failures stop\n",
        "catch throw\n",
        "r\n",
        "bt\n",
        "info locals\n",
        "thread 1\n",
        "bt"
      ],
      "metadata": {
        "colab": {
          "base_uri": "https://localhost:8080/"
        },
        "id": "enNGCLae-EPy",
        "outputId": "5396fecb-0b16-4049-8436-b144beb27fb4"
      },
      "execution_count": null,
      "outputs": [
        {
          "output_type": "stream",
          "name": "stdout",
          "text": [
            "Overwriting debug_instructions.txt\n"
          ]
        }
      ]
    },
    {
      "cell_type": "code",
      "source": [
        "! cuda-gdb -batch -x debug_instructions.txt ./add"
      ],
      "metadata": {
        "colab": {
          "base_uri": "https://localhost:8080/"
        },
        "id": "M4i1d0EG--k2",
        "outputId": "02759842-1ad0-490d-d93a-de7a29abe36e"
      },
      "execution_count": null,
      "outputs": [
        {
          "output_type": "stream",
          "name": "stdout",
          "text": [
            "Catchpoint 1 (throw)\n",
            "warning: Error disabling address space randomization: Operation not permitted\n",
            "[Thread debugging using libthread_db enabled]\n",
            "Using host libthread_db library \"/lib/x86_64-linux-gnu/libthread_db.so.1\".\n",
            "[Detaching after fork from child process 616]\n",
            "[New Thread 0x7fb3efb1f000 (LWP 624)]\n",
            "[New Thread 0x7fb3ef31e000 (LWP 625)]\n",
            "\n",
            "Thread 1 \"add\" received signal CUDA_EXCEPTION_1, Lane Illegal Address.\n",
            "[Switching focus to CUDA kernel 0, grid 1, block (0,0,0), thread (0,0,0), device 0, sm 0, warp 0, lane 0]\n",
            "0x0000557882dee160 in add (a=2, b=2, res=0x0) at add.cu:5\n",
            "5\t  *res = a + b;\n",
            "#0  0x0000557882dee160 in add (a=2, b=2, res=0x0) at add.cu:5\n",
            "#1  0x0000557882dee160 in add<<<(1,1,1),(1,1,1)>>> (a=2, b=2, res=0x0) at add.cu:5\n",
            "No locals.\n",
            "[Switching to thread 1 (Thread 0x7fb3f720c000 (LWP 611))]\n",
            "#0  0x00007fb3f5cad430 in ?? () from /usr/lib64-nvidia/libcuda.so.1\n",
            "#0  0x00007fb3f5cad430 in ?? () from /usr/lib64-nvidia/libcuda.so.1\n",
            "#1  0x00007fb3f5f1fa96 in ?? () from /usr/lib64-nvidia/libcuda.so.1\n",
            "#2  0x00007fb3f5f20581 in ?? () from /usr/lib64-nvidia/libcuda.so.1\n",
            "#3  0x00007fb3f5d31197 in ?? () from /usr/lib64-nvidia/libcuda.so.1\n",
            "#4  0x00007fb3f5d13af5 in ?? () from /usr/lib64-nvidia/libcuda.so.1\n",
            "#5  0x00007fb3f5f08d3b in ?? () from /usr/lib64-nvidia/libcuda.so.1\n",
            "#6  0x00007fb3f5cc60f5 in ?? () from /usr/lib64-nvidia/libcuda.so.1\n",
            "#7  0x00007fb3f5e6c1f6 in ?? () from /usr/lib64-nvidia/libcuda.so.1\n",
            "#8  0x00007fb3f5ce1e09 in ?? () from /usr/lib64-nvidia/libcuda.so.1\n",
            "#9  0x00007fb3f5f263e0 in ?? () from /usr/lib64-nvidia/libcuda.so.1\n",
            "#10 0x00007fb3f5c9b243 in ?? () from /usr/lib64-nvidia/libcuda.so.1\n",
            "#11 0x00007fb3f5c9c555 in ?? () from /usr/lib64-nvidia/libcuda.so.1\n",
            "#12 0x00007fb3f5d42dc8 in cuLaunchKernel () from /usr/lib64-nvidia/libcuda.so.1\n",
            "#13 0x000055787f8974ab in __cudart792 ()\n",
            "#14 0x000055787f8e3f60 in cudaLaunchKernel ()\n",
            "#15 0x000055787f892f98 in cudaLaunchKernel<char> (func=0x55787f892e63 <add(int, int, int*)> \"\\363\\017\\036\\372UH\\211\\345H\\203\\354\\020\\211}\\374\\211u\\370H\\211U\\360H\\213U\\360\\213M\\370\\213E\\374\\211Ή\\307\\350z\\376\\377\\377\\220\\311\\303\\363\\017\\036\\372UH\\211\\345H\\203\\354\\020H\\211}\\370H\\213E\\370H\\211\\005\\066\\242\\b\", gridDim=..., blockDim=..., args=0x7ffeaaf06700, sharedMem=0, stream=0x0) at /usr/local/cuda/bin/../targets/x86_64-linux/include/cuda_runtime.h:211\n",
            "#16 0x000055787f892e3b in __device_stub__Z3addiiPi (__par0=2, __par1=2, __par2=0x0) at /tmp/tmpxft_000001dc_00000000-6_add.cudafe1.stub.c:13\n",
            "#17 0x000055787f892e8c in add (__cuda_0=2, __cuda_1=2, __cuda_2=0x0) at add.cu:4\n",
            "#18 0x000055787f892c4f in main () at add.cu:12\n"
          ]
        }
      ]
    },
    {
      "cell_type": "markdown",
      "metadata": {
        "id": "Pc5oZhKdV4ik"
      },
      "source": [
        "# Code with error management"
      ]
    },
    {
      "cell_type": "code",
      "metadata": {
        "colab": {
          "base_uri": "https://localhost:8080/"
        },
        "id": "1J3RTPQ1WI6l",
        "outputId": "cf3e2d16-a3fe-43b3-ca91-ecef481f55a9"
      },
      "source": [
        "%%writefile add.cu\n",
        "#include <stdio.h>\n",
        "#include <stdlib.h>\n",
        "\n",
        "__global__ void add(int a, int b, int *res) {\n",
        "  *res = a + b;\n",
        "}\n",
        "\n",
        "\n",
        "int main() {\n",
        "  int res=0;\n",
        "  int *d_res = NULL;\n",
        "  cudaError_t err;\n",
        "\n",
        "  // Launch add() kernel on GPU\n",
        "  add<<<1,1>>>(2, 2, d_res);\n",
        "  err = cudaPeekAtLastError();\n",
        "  if (err != cudaSuccess){\n",
        "      fprintf(stderr,\"GPUassert: add launch failed with the error : %s \\n\", cudaGetErrorString(err));\n",
        "      exit(err);\n",
        "   }\n",
        "  err = cudaDeviceSynchronize() ;\n",
        "  if (err != cudaSuccess){\n",
        "      fprintf(stderr,\"GPUassert: add execution failed with the error : %s \\n\", cudaGetErrorString(err));\n",
        "      exit(err);\n",
        "  }\n",
        "\n",
        "  err = cudaMemcpy(&res, d_res, sizeof(int), cudaMemcpyDeviceToHost);\n",
        "  if (err != cudaSuccess){\n",
        "      fprintf(stderr,\"GPUassert: cudaMemcpy failed with the error : %s \\n\", cudaGetErrorString(err));\n",
        "      exit(err);\n",
        "   }\n",
        "\n",
        "  printf(\"2 + 2 = %d\\n\", res);\n",
        "\n",
        "  return EXIT_SUCCESS;\n",
        "}"
      ],
      "execution_count": null,
      "outputs": [
        {
          "output_type": "stream",
          "name": "stdout",
          "text": [
            "Overwriting add.cu\n"
          ]
        }
      ]
    },
    {
      "cell_type": "code",
      "source": [
        "! nvcc add.cu -o add"
      ],
      "metadata": {
        "id": "1s3iDAig9Q0o"
      },
      "execution_count": null,
      "outputs": []
    },
    {
      "cell_type": "code",
      "source": [
        "!./add"
      ],
      "metadata": {
        "colab": {
          "base_uri": "https://localhost:8080/"
        },
        "id": "zawOhWgM9jsI",
        "outputId": "99b4197f-bace-4fc0-9e50-20236a3ab977"
      },
      "execution_count": null,
      "outputs": [
        {
          "output_type": "stream",
          "name": "stdout",
          "text": [
            "GPUassert: add execution failed with the error : an illegal memory access was encountered \n"
          ]
        }
      ]
    },
    {
      "cell_type": "markdown",
      "metadata": {
        "id": "FMP8lcgGOzPX"
      },
      "source": [
        "# CUDA error management Utilities in a separate cell\n"
      ]
    },
    {
      "cell_type": "code",
      "metadata": {
        "colab": {
          "base_uri": "https://localhost:8080/"
        },
        "id": "rQg_K9pQPZXu",
        "outputId": "9f54cbf0-9993-42fb-b7c2-56ecbfb684a3"
      },
      "source": [
        "%%writefile cuda_stuff.cuh\n",
        "#include <stdio.h>\n",
        "#include <stdlib.h>\n",
        "#include <cuda.h>\n",
        "#include <cuda_runtime.h>\n",
        "\n",
        "#ifndef cuda_stuff_H\n",
        "#define cuda_stuff_H\n",
        "\n",
        "//MACRO TO DEBUG CUDA FUNCTIONS\n",
        "/** Error checking,\n",
        " *  taken from https://stackoverflow.com/questions/14038589/what-is-the-canonical-way-to-check-for-errors-using-the-cuda-runtime-api\n",
        " */\n",
        "#define gpuErrchk(ans) { gpuAssert((ans), __FILE__, __LINE__); }\n",
        "inline void gpuAssert(cudaError_t code, const char *file, int line, bool abort=true)\n",
        "{\n",
        "   if (code != cudaSuccess)\n",
        "   {\n",
        "      fprintf(stderr,\"GPUassert: %s %s %d\\n\", cudaGetErrorString(code), file, line);\n",
        "      if (abort) exit(code);\n",
        "   }\n",
        "}\n",
        "\n",
        "#endif\n"
      ],
      "execution_count": null,
      "outputs": [
        {
          "output_type": "stream",
          "name": "stdout",
          "text": [
            "Writing cuda_stuff.cuh\n"
          ]
        }
      ]
    },
    {
      "cell_type": "code",
      "metadata": {
        "colab": {
          "base_uri": "https://localhost:8080/"
        },
        "id": "BKpKvYVTPHhz",
        "outputId": "b27e8cba-0ff4-4fb2-b0ff-bc2b4202f2a3"
      },
      "source": [
        "%%writefile addition.cu\n",
        "#include <stdio.h>\n",
        "#include <stdlib.h>\n",
        "\n",
        "#include \"cuda_stuff.cuh\"\n",
        "\n",
        "__global__ void add(int a, int b, int *res) {\n",
        "  *res = a + b;\n",
        "}\n",
        "\n",
        "\n",
        "int main() {\n",
        "  int res=0;\n",
        "  int *d_res = NULL;\n",
        "\n",
        "  // Launch add() kernel on GPU\n",
        "  add<<<1,1>>>(2, 2, d_res);\n",
        "  gpuErrchk( cudaPeekAtLastError() );\n",
        "  gpuErrchk( cudaDeviceSynchronize() );\n",
        "\n",
        "  gpuErrchk(cudaMemcpy(&res, d_res, sizeof(int), cudaMemcpyDeviceToHost));\n",
        "  printf(\"2 + 2 = %d\\n\", res);\n",
        "\n",
        "  return EXIT_SUCCESS;\n",
        "}"
      ],
      "execution_count": null,
      "outputs": [
        {
          "output_type": "stream",
          "name": "stdout",
          "text": [
            "Writing addition.cu\n"
          ]
        }
      ]
    },
    {
      "cell_type": "code",
      "metadata": {
        "id": "qxP2OLarwSmo"
      },
      "source": [
        "!nvcc addition.cu -o addition"
      ],
      "execution_count": null,
      "outputs": []
    },
    {
      "cell_type": "code",
      "metadata": {
        "colab": {
          "base_uri": "https://localhost:8080/"
        },
        "id": "wcTDugXLViwU",
        "outputId": "eaf5d107-5d1f-4ff4-926c-f6112b6f3e00"
      },
      "source": [
        "! ./addition"
      ],
      "execution_count": null,
      "outputs": [
        {
          "output_type": "stream",
          "name": "stdout",
          "text": [
            "GPUassert: an illegal memory access was encountered addition.cu 18\n"
          ]
        }
      ]
    }
  ]
}