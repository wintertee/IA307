{
  "cells": [
    {
      "cell_type": "markdown",
      "metadata": {
        "id": "Rnmxx8KrObaX"
      },
      "source": [
        "# Introduction\n",
        "\n",
        "The reference for matrix computations in CUDA is the cuBLAS library.\n",
        "Similar to other basic linear algebra (BLAS) libraries, cuBLAS does not\n",
        "have a particular data structure for representing matrics. Instead, the data\n",
        "in the matrix is stored in a 1D array, and it is up to the user to keep track\n",
        "of matrix dimensions, memory allocation, etc.\n",
        "In our experience, this is very error prone and coders end up spending hours\n",
        "hunting for bugs that are often just typos. This is one of the reasons that frameworks like PyTorch and Tensorflow provide their own tensor data structures.\n",
        "We do the same, but keep the data structure as simple as possible so that you can understand easily what's under the hood.\n",
        "\n",
        "We propose a __simple cuBLAS-compatible data structure__, called `fmatrix`, for representing matrices\n",
        "with single precision, and provide a collection of __functions for routine tasks__ such as\n",
        "- easy access to matrix elements (no need to compute element addresses),\n",
        "- creating matrices (allocating memory) on the host and the device, including matrices with random values,\n",
        "- copying matrices between host and device,\n",
        "- printing matrices and reading/writing with CSV files.\n",
        "\n",
        "We highly encourage you to look at how these functions are coded, and then use them in their own code rather than directly working with the 1D array data. This will make their code faster to develop, more readable and help avoid bugs. This is not just about understanding how the `fmatrix` code works -- the same principles are at work in __all__ the deep learning frameworks.\n",
        "\n",
        "In this notebook, we first show the `fmatrix` structure and accompanying functions, then give examples of matrix functions implemented with `fmatrix`, and finally show different ways to test that these functions work as intended.\n",
        "For exhaustive, automated testing, we generate and check test cases with Numpy. Comparing the output of the GPU code with established software should greatly increase the confidence. The same principle could be applied to compare with the output of high-level frameworks like PyTorch or Tensorflow.\n",
        "\n"
      ]
    },
    {
      "cell_type": "markdown",
      "metadata": {
        "id": "iwd38XvZK2sy"
      },
      "source": [
        "# Installation"
      ]
    },
    {
      "cell_type": "markdown",
      "metadata": {
        "id": "Wm8KscV-wx3m"
      },
      "source": [
        "Check that the NVIDIA compiler is present."
      ]
    },
    {
      "cell_type": "code",
      "execution_count": null,
      "metadata": {
        "colab": {
          "base_uri": "https://localhost:8080/"
        },
        "id": "Q6ewR7_sHJ00",
        "outputId": "9d8c84aa-1e5c-4ac5-9353-0ae7c61d5d76"
      },
      "outputs": [
        {
          "name": "stdout",
          "output_type": "stream",
          "text": [
            "nvcc: NVIDIA (R) Cuda compiler driver\n",
            "Copyright (c) 2005-2022 NVIDIA Corporation\n",
            "Built on Wed_Sep_21_10:33:58_PDT_2022\n",
            "Cuda compilation tools, release 11.8, V11.8.89\n",
            "Build cuda_11.8.r11.8/compiler.31833905_0\n"
          ]
        }
      ],
      "source": [
        "!/usr/local/cuda/bin/nvcc --version"
      ]
    },
    {
      "cell_type": "markdown",
      "metadata": {
        "id": "GJr3rQu-dJuD"
      },
      "source": [
        "Download the cuda-samples repository to get header files we'll use:"
      ]
    },
    {
      "cell_type": "code",
      "execution_count": null,
      "metadata": {
        "colab": {
          "base_uri": "https://localhost:8080/"
        },
        "id": "_kDHHIo5dXhH",
        "outputId": "7d4a420e-902c-45dd-9bd5-88c3c60ffb0f"
      },
      "outputs": [
        {
          "name": "stdout",
          "output_type": "stream",
          "text": [
            "Cloning into 'cuda-samples'...\n",
            "remote: Enumerating objects: 14775, done.\u001b[K\n",
            "remote: Counting objects: 100% (4167/4167), done.\u001b[K\n",
            "remote: Compressing objects: 100% (710/710), done.\u001b[K\n",
            "remote: Total 14775 (delta 3687), reused 3733 (delta 3454), pack-reused 10608\u001b[K\n",
            "Receiving objects: 100% (14775/14775), 132.87 MiB | 14.44 MiB/s, done.\n",
            "Resolving deltas: 100% (12456/12456), done.\n",
            "Updating files: 100% (3941/3941), done.\n"
          ]
        }
      ],
      "source": [
        "!git clone https://github.com/NVIDIA/cuda-samples.git"
      ]
    },
    {
      "cell_type": "markdown",
      "metadata": {
        "id": "Po-TEvrWMJ_a"
      },
      "source": [
        "## CUDA Utilities"
      ]
    },
    {
      "cell_type": "code",
      "execution_count": 1,
      "metadata": {
        "colab": {
          "base_uri": "https://localhost:8080/"
        },
        "id": "c-lgwhE1N5_7",
        "outputId": "92af9d28-16f2-4325-d48f-b7d74d424305"
      },
      "outputs": [
        {
          "name": "stdout",
          "output_type": "stream",
          "text": [
            "Writing cuda_stuff.cuh\n"
          ]
        }
      ],
      "source": [
        "%%writefile cuda_stuff.cuh\n",
        "#include <stdio.h>\n",
        "#include <stdlib.h>\n",
        "#include <cuda.h>\n",
        "#include <cuda_runtime.h>\n",
        "#include <helper_cuda.h>\n",
        "\n",
        "#ifndef cuda_stuff_H\n",
        "#define cuda_stuff_H\n",
        "\n",
        "/* transform matrix index to vector offset\n",
        "   Since CUDA uses column major,\n",
        "   nb_rows = number of rows */\n",
        "#define IDX2C(i,j,nb_rows) (((j)*(nb_rows))+(i))\n",
        "\n",
        "//MACRO TO DEBUGG CUDA FUNCTIONS\n",
        "/** Error checking,\n",
        " *  taken from https://stackoverflow.com/questions/14038589/what-is-the-canonical-way-to-check-for-errors-using-the-cuda-runtime-api\n",
        " */\n",
        "#define gpuErrchk(ans) { gpuAssert((ans), __FILE__, __LINE__); }\n",
        "inline void gpuAssert(cudaError_t code, const char *file, int line, bool abort=true)\n",
        "{\n",
        "   if (code != cudaSuccess)\n",
        "   {\n",
        "      fprintf(stderr,\"GPUassert: %s %s %d\\n\", cudaGetErrorString(code), file, line);\n",
        "      if (abort) exit(code);\n",
        "   }\n",
        "}\n",
        "/** Error checking for use with CUDA Dynamic Parallelism */\n",
        "/*\n",
        "#define cdpErrchk(ans) { cdpAssert((ans), __FILE__, __LINE__); }\n",
        "__device__ void cdpAssert(cudaError_t code, const char *file, int line, bool abort=true)\n",
        "{\n",
        "   if (code != cudaSuccess)\n",
        "   {\n",
        "      printf(\"GPU kernel assert: %s %s %d\\n\", cudaGetErrorString(code), file, line);\n",
        "      if (abort) assert(0);\n",
        "   }\n",
        "}\n",
        "*/\n",
        "void device_synchronize();\n",
        "\n",
        "#endif\n"
      ]
    },
    {
      "cell_type": "code",
      "execution_count": 2,
      "metadata": {
        "colab": {
          "base_uri": "https://localhost:8080/"
        },
        "id": "iivrxLaYOYPh",
        "outputId": "6c1558c2-6b67-451a-df94-644a84361a00"
      },
      "outputs": [
        {
          "name": "stdout",
          "output_type": "stream",
          "text": [
            "Writing cuda_stuff.cu\n"
          ]
        }
      ],
      "source": [
        "%%writefile cuda_stuff.cu\n",
        "#include <stdio.h>\n",
        "#include <stdlib.h>\n",
        "#include <cuda.h>\n",
        "#include <cuda_runtime.h>\n",
        "#include <helper_cuda.h>\n",
        "#include \"cuda_stuff.cuh\"\n",
        "\n",
        "void device_synchronize(){\n",
        "    gpuErrchk(cudaDeviceSynchronize());\n",
        "}"
      ]
    },
    {
      "cell_type": "markdown",
      "metadata": {
        "id": "0fsEMpauK8lW"
      },
      "source": [
        "# The fmatrix Data Structure"
      ]
    },
    {
      "cell_type": "markdown",
      "metadata": {
        "id": "LD7TXq-1L8tL"
      },
      "source": [
        "Similar to cuBLAS, a 2D matrix is represented by a 1D array that stores one column of the matrix after another (this is called _linearization_).\n",
        "The `fmatrix` structure contains a `data` pointer to such an array, which is 100% compatible with cuBLAS. In addition, it stores the number of columns and rows in the matrix."
      ]
    },
    {
      "cell_type": "code",
      "execution_count": 3,
      "metadata": {
        "colab": {
          "base_uri": "https://localhost:8080/"
        },
        "id": "A97U902HMog4",
        "outputId": "e928dfd1-d87e-4f34-8da7-2e7c6e29e214"
      },
      "outputs": [
        {
          "name": "stdout",
          "output_type": "stream",
          "text": [
            "Writing fmatrix.cuh\n"
          ]
        }
      ],
      "source": [
        "%%writefile fmatrix.cuh\n",
        "#ifndef fmatrices_H\n",
        "#define fmatrices_H\n",
        "#include \"cuda_stuff.cuh\" // for IDX2C\n",
        "\n",
        "////////////////////////////////////////\n",
        "// basic data structure and access macro\n",
        "////////////////////////////////////////\n",
        "typedef struct {\n",
        "    float* data;\n",
        "    int cols;\n",
        "    int rows;\n",
        "} fmatrix;\n",
        "\n",
        "/** Access element (i,j) of matrix M\n",
        " *\n",
        " *  Usage example:\n",
        " *  For computing A = B^T + C), loop over i and j with:\n",
        " *    getfm(A,i,j) = getfm(B,j,i) + getfm(C,i,j);\n",
        " **/\n",
        "#define getfm(M,i,j) (M.data[IDX2C(i,j,M.rows)])\n",
        "\n",
        "////////////////////////////////////////\n",
        "// utility functions\n",
        "////////////////////////////////////////\n",
        "/** Returns the number of elements in the matrix.\n",
        " *\n",
        " *  Useful for computing, e.g., the size\n",
        " *  of a 1D-vector that contains the same numbers.\n",
        " */\n",
        " __host__\n",
        " __device__\n",
        "int fmatrix_elements(fmatrix mat);\n",
        "\n",
        "/** Returns the memory occupied by the matrix elements in bytes\n",
        " *  (not including the variables in the struct mat).\n",
        " *\n",
        " *  Useful for allocating memory for the data.\n",
        " */\n",
        " __host__\n",
        " __device__\n",
        "int fmatrix_size(fmatrix mat);\n",
        "\n",
        "/** Assert that the matrix is coherent: all fields nonzero. */\n",
        " __host__\n",
        " __device__\n",
        "void fmatrix_assert(fmatrix mat);\n",
        "\n",
        "////////////////////////////////////////\n",
        "// Create, copy, destroy\n",
        "////////////////////////////////////////\n",
        "/** Allocate memory on host */\n",
        "fmatrix fmatrix_create_on_host(int rows, int cols);\n",
        "\n",
        "/** Allocate memory on device */\n",
        "fmatrix fmatrix_create_on_device(int rows, int cols);\n",
        "\n",
        "/** Create a matrix representing columns [a,b) of M.\n",
        " *  Note that the new matrix uses a pointer to the\n",
        " *  data of M. The data is not copied to a new location.\n",
        " *  If M is destroyed, this matrix is useless.\n",
        " */\n",
        "fmatrix fmatrix_subcolumns(fmatrix M, int a, int b);\n",
        "\n",
        "/** Copy data from matrix on device to host\n",
        " *  (no memory allocation). */\n",
        "void fmatrix_data_to_host(fmatrix mat_host, fmatrix mat_device);\n",
        "\n",
        "/** Copy data from matrix on host to device\n",
        " *  (no memory allocation). */\n",
        "void fmatrix_data_to_device(fmatrix mat_host, fmatrix mat_device);\n",
        "\n",
        "/** Copy matrix from device to host, allocating new memory. */\n",
        "fmatrix fmatrix_copy_to_host(fmatrix mat_device);\n",
        "\n",
        "/** Copy matrix from host to device, allocating new memory. */\n",
        "fmatrix fmatrix_copy_to_device(fmatrix mat_host);\n",
        "\n",
        "/** Free data memory on host.\n",
        " *  This zeros out the data pointer of the fmatrix struct,\n",
        " *  so a pointer is required. */\n",
        "void fmatrix_free_on_host(fmatrix* mat);\n",
        "\n",
        "/** Free data memory on device.\n",
        " *  This zeros out the data pointer of the fmatrix struct,\n",
        " *  so a pointer is required. */\n",
        "void fmatrix_free_on_device(fmatrix* mat);\n",
        "\n",
        "////////////////////////////////////////\n",
        "// Input and Output\n",
        "////////////////////////////////////////\n",
        "\n",
        "/** Print the first nb rows of the matrix mat\n",
        " *  on the host.\n",
        " *  If nb<0, print all rows.\n",
        " */\n",
        " __host__\n",
        " __device__\n",
        "void fmatrix_print(fmatrix mat, int nb=-1);\n",
        "\n",
        "/** Print the first nb rows of the matrix mat\n",
        " *  on the device.\n",
        " *  If nb<0, print all rows.\n",
        " *\n",
        " *  This version copies the matrix to host first.\n",
        " */\n",
        "void fmatrix_device_print(fmatrix mat, int nb=-1);\n",
        "\n",
        "/** Print a matrix to a csv file.\n",
        " *\n",
        " *  This version copies the matrix to host first.\n",
        " */\n",
        "void fmatrix_device_to_csv(const char* filename, fmatrix mat);\n",
        "\n",
        "/** Read a matrix from a csv file.\n",
        " *\n",
        " *  This version creates the matrix on the host first.\n",
        " */\n",
        "fmatrix fmatrix_device_from_csv(const char* filename);\n",
        "\n",
        "////////////////////////////////////////\n",
        "// Useful\n",
        "////////////////////////////////////////\n",
        "\n",
        "/** Create a matrix with random values between -1 and 1\n",
        " *  on the device */\n",
        "fmatrix fmatrix_create_random_on_device(int rows, int cols);\n",
        "\n",
        "#endif\n"
      ]
    },
    {
      "cell_type": "code",
      "execution_count": 4,
      "metadata": {
        "colab": {
          "base_uri": "https://localhost:8080/"
        },
        "id": "wGwZ36ifWQ-d",
        "outputId": "65faeb92-40e1-4bfc-bcd7-086d4a0bc0de"
      },
      "outputs": [
        {
          "name": "stdout",
          "output_type": "stream",
          "text": [
            "Writing fmatrix.cu\n"
          ]
        }
      ],
      "source": [
        "%%writefile fmatrix.cu\n",
        "#include <assert.h>\n",
        "#include <stdio.h>\n",
        "#include <stdlib.h>\n",
        "#include <cuda.h>\n",
        "#include <cuda_runtime.h>\n",
        "#include <helper_cuda.h>\n",
        "#include <curand.h>\n",
        "#include <curand_kernel.h>\n",
        "#include \"cuda_stuff.cuh\"\n",
        "#include \"fmatrix.cuh\"\n",
        "\n",
        "// for reading CSV files, we use some C++\n",
        "#include <iostream>\n",
        "#include <iomanip>\n",
        "#include <fstream>\n",
        "#include <string>\n",
        "\n",
        "int fmatrix_elements(fmatrix mat) {\n",
        "     return mat.cols*mat.rows;\n",
        "}\n",
        "\n",
        "int fmatrix_size(fmatrix mat) {\n",
        "//    fmatrix_assert(mat);\n",
        "     return fmatrix_elements(mat) * sizeof(float);\n",
        "}\n",
        "\n",
        "void fmatrix_assert(fmatrix mat) {\n",
        "    assert(mat.data);\n",
        "    assert(mat.cols);\n",
        "    assert(mat.rows);\n",
        "}\n",
        "\n",
        "fmatrix fmatrix_create_on_host(int rows, int cols) {\n",
        "    assert(cols>0);\n",
        "    assert(rows>0);\n",
        "    fmatrix mat;\n",
        "    mat.cols = cols;\n",
        "    mat.rows = rows;\n",
        "    mat.data = (float*)malloc(fmatrix_size(mat));\n",
        "    assert(mat.data);\n",
        "    return mat;\n",
        "}\n",
        "\n",
        "fmatrix fmatrix_create_on_device(int rows, int cols) {\n",
        "    assert(cols>0);\n",
        "    assert(rows>0);\n",
        "    fmatrix mat;\n",
        "    mat.cols = cols;\n",
        "    mat.rows = rows;\n",
        "    gpuErrchk(\n",
        "        cudaMalloc((void **)&(mat.data), fmatrix_size(mat))\n",
        "    );\n",
        "    return mat;\n",
        "}\n",
        "\n",
        "void fmatrix_data_to_device(fmatrix mat_host, fmatrix mat_device) {\n",
        "    fmatrix_assert(mat_host);\n",
        "    fmatrix_assert(mat_device);\n",
        "    assert(mat_host.cols==mat_device.cols);\n",
        "    assert(mat_host.rows==mat_device.rows);\n",
        "    gpuErrchk(\n",
        "        cudaMemcpy( mat_device.data, mat_host.data,\n",
        "                   fmatrix_size(mat_host),\n",
        "                   cudaMemcpyHostToDevice\n",
        "                   )\n",
        "        );\n",
        "}\n",
        "\n",
        "void fmatrix_data_to_host(fmatrix mat_host, fmatrix mat_device) {\n",
        "    fmatrix_assert(mat_host);\n",
        "    fmatrix_assert(mat_device);\n",
        "    assert(mat_host.cols==mat_device.cols);\n",
        "    assert(mat_host.rows==mat_device.rows);\n",
        "    gpuErrchk(\n",
        "        cudaMemcpy( mat_host.data, mat_device.data,\n",
        "                   fmatrix_size(mat_device),\n",
        "                   cudaMemcpyDeviceToHost\n",
        "                   )\n",
        "        );\n",
        "}\n",
        "\n",
        "fmatrix fmatrix_copy_to_host(fmatrix mat_device) {\n",
        "    fmatrix_assert(mat_device);\n",
        "    fmatrix mat_host = fmatrix_create_on_host(mat_device.rows, mat_device.cols);\n",
        "    fmatrix_data_to_host(mat_host,mat_device);\n",
        "    return mat_host;\n",
        "}\n",
        "\n",
        "fmatrix fmatrix_copy_to_device(fmatrix mat_host) {\n",
        "    fmatrix_assert(mat_host);\n",
        "    fmatrix mat_device = fmatrix_create_on_device(mat_host.rows, mat_host.cols);\n",
        "    fmatrix_data_to_device(mat_host,mat_device);\n",
        "    return mat_device;\n",
        "}\n",
        "\n",
        "/** We could do it like this, but it would not set our pointer M.data to 0.\n",
        "... fmatrix_free_on_host(M)\n",
        "void fmatrix_free_on_host(fmatrix mat) {\n",
        "    fmatrix_assert(mat);\n",
        "  free(mat.data);\n",
        "  mat.data = 0;\n",
        "  mat.cols = 0;\n",
        "  mat.rows = 0;\n",
        "}\n",
        "*/\n",
        "\n",
        "void fmatrix_free_on_host(fmatrix* mat) {\n",
        "    fmatrix_assert(*mat);\n",
        "  free(mat->data);\n",
        "  mat->data = 0;\n",
        "  mat->cols = 0;\n",
        "  mat->rows = 0;\n",
        "}\n",
        "\n",
        "void fmatrix_free_on_device(fmatrix* mat) {\n",
        "    fmatrix_assert(*mat);\n",
        "  gpuErrchk(cudaFree(mat->data));\n",
        "  mat->data = 0;\n",
        "  mat->cols = 0;\n",
        "  mat->rows = 0;\n",
        "}\n",
        "\n",
        "fmatrix fmatrix_subcolumns(fmatrix M, int a, int b) {\n",
        "    fmatrix_assert(M);\n",
        "    fmatrix A = {\n",
        "        .data = &getfm(M,0,a),\n",
        "        .cols = b-a,\n",
        "        .rows = M.rows\n",
        "    };\n",
        "    fmatrix_assert(A);\n",
        "    return A;\n",
        "}\n",
        "\n",
        "\n",
        "__host__\n",
        "__device__\n",
        "void fmatrix_print(fmatrix mat, int nb){\n",
        "    if (nb<0 || nb > mat.rows) {\n",
        "        nb = mat.rows;\n",
        "    }\n",
        "    printf(\"[\\n\");\n",
        "    for (int i = 0 ; i < nb; i++){\n",
        "      for (int j = 0 ; j<mat.cols; j++){\n",
        "        printf(\"%f\", getfm(mat,i,j));\n",
        "        if (j+1<mat.cols) {\n",
        "          printf(\",\\t\");\n",
        "        }\n",
        "      }\n",
        "      if (i+1<nb) {\n",
        "        printf(\";\\n\");\n",
        "      }\n",
        "    }\n",
        "    if (nb < mat.rows) {\n",
        "      printf(\"\\n...\\n\");\n",
        "    }\n",
        "  printf(\"\\n]\\n\");\n",
        "}\n",
        "\n",
        "void fmatrix_device_print(fmatrix mat, int nb){\n",
        "   // allocate copy\n",
        "   fmatrix tmp = fmatrix_copy_to_host(mat);\n",
        "   fmatrix_print(tmp,nb);\n",
        "   fmatrix_free_on_host(&tmp);\n",
        "}\n",
        "\n",
        "void fmatrix_device_to_csv(const char* filename, fmatrix mat) {\n",
        "  // Open file\n",
        "  FILE* fp = fopen(filename, \"w\");\n",
        "  // allocate copy\n",
        "  fmatrix tmp = fmatrix_copy_to_host(mat);\n",
        "  for (int i = 0 ; i < tmp.rows; i++){\n",
        "    for (int j = 0 ; j<tmp.cols; j++){\n",
        "      // Note: %.15g gives 15 significant digits (full double precision)\n",
        "      fprintf(fp,\"%.15g\", getfm(tmp,i,j));\n",
        "      if (j+1<tmp.cols) {\n",
        "        fprintf(fp,\",\");\n",
        "      }\n",
        "    }\n",
        "    fprintf(fp,\"\\n\");\n",
        "  }\n",
        "  fmatrix_free_on_host(&tmp);\n",
        "  // Close file\n",
        "  fclose(fp);\n",
        "}\n",
        "\n",
        "__global__\n",
        "void fmatrix_create_random_on_device_kernel(fmatrix M) {\n",
        "    // choose a seed (here: the same each launch)\n",
        "    unsigned long seed = 0;\n",
        "    int sequence = 0;\n",
        "    // first, initialize the random numbers\n",
        "    curandState state;\n",
        "    curand_init(seed, sequence, 0, &state);\n",
        "    for (int i = 0; i < fmatrix_elements(M); ++i) {\n",
        "        // curand_uniform creates numbers between 0 and 1\n",
        "        M.data[i] = (curand_uniform(&state)-0.5)*2.0;\n",
        "    }\n",
        "}\n",
        "\n",
        "fmatrix fmatrix_create_random_on_device(int rows, int cols) {\n",
        "    // Create an uninitialized matrix on the device\n",
        "    fmatrix M = fmatrix_create_on_device(rows,cols);\n",
        "    // Call a kernel with a single thread to fill the values\n",
        "    fmatrix_create_random_on_device_kernel<<<1,1>>>(M);\n",
        "\n",
        "    return M;\n",
        "}\n",
        "\n",
        "/* Count the number of rows and columns in a csv files (without headers) */\n",
        "void count_elements_in_csv(const char* filename, int* rows, int* cols) {\n",
        "  // Note: for the sake of convenience, we use some C++ functions here\n",
        "  using namespace std;\n",
        "\n",
        "  *rows = 0;\n",
        "  *cols = 0;\n",
        "  string row_as_string;\n",
        "  string value;\n",
        "  ifstream infile;\n",
        "  infile.open(filename, ifstream::in);\n",
        "\tif (infile.is_open())\n",
        "  {\n",
        "    while (getline(infile, row_as_string, '\\n')) {\n",
        "\t\t\t\tistringstream line_stream(row_as_string);\n",
        "        int tempcols = 0;\n",
        "        while (getline(line_stream, value, ',')) {\n",
        "          ++tempcols;\n",
        "        }\n",
        "        if (tempcols > *cols) {\n",
        "           *cols = tempcols;\n",
        "        }\n",
        "        ++(*rows);\n",
        "\t\t\t}\n",
        "\t\tinfile.close();\n",
        "\t}\n",
        "\telse cout << \"Cannot open file.\" << endl;\n",
        "}\n",
        "\n",
        "/** Read the data from a csv file into an fmatrix on the host.\n",
        " *  Careful: We assume that the matrix has the right dimensions!\n",
        " *  Use count_elements_in_csv(...) to get the dimensions if\n",
        " *  unknown.\n",
        " */\n",
        "void fmatrix_fill_from_csv(fmatrix h_M,const char* filename) {\n",
        "  // Note: for the sake of convenience, we use some C++ functions here\n",
        "  using namespace std;\n",
        "  string row_as_string;\n",
        "  string value;\n",
        "  ifstream infile;\n",
        "  infile.open(filename, ifstream::in);\n",
        "  int row = 0;\n",
        "\tif (infile.is_open())\n",
        "  {\n",
        "    while (getline(infile, row_as_string, '\\n')) {\n",
        "\t\t\t\tistringstream line_stream(row_as_string);\n",
        "        int col = 0;\n",
        "        while (getline(line_stream, value, ',')) {\n",
        "\t\t\t\t\tgetfm(h_M,row,col) = strtod(value.c_str(), NULL);\n",
        "          ++col;\n",
        "\t\t\t\t}\n",
        "        ++row;\n",
        "\t\t\t}\n",
        "\t\tinfile.close();\n",
        "\t}\n",
        "\telse cout << \"Cannot open file.\" << endl;\n",
        "}\n",
        "\n",
        "fmatrix fmatrix_device_from_csv(const char* filename) {\n",
        "  // first read the file to count the number of elements\n",
        "  int rows = 0;\n",
        "  int cols = 0;\n",
        "  count_elements_in_csv(filename,&rows,&cols);\n",
        "\n",
        "  // allocate the matrix on the host\n",
        "  fmatrix h_M = fmatrix_create_on_host(rows,cols);\n",
        "\n",
        "  // read the data into the host matrix\n",
        "  fmatrix_fill_from_csv(h_M,filename);\n",
        "\n",
        "  // copy the matrix to the device\n",
        "  fmatrix M = fmatrix_copy_to_device(h_M);\n",
        "\n",
        "  // destroy the host matrix\n",
        "  fmatrix_free_on_host(&h_M);\n",
        "\n",
        "  return M;\n",
        "}\n",
        "\n",
        "\n"
      ]
    },
    {
      "cell_type": "markdown",
      "metadata": {
        "id": "DN57hYCW_Qug"
      },
      "source": [
        "# Writing Matrix Functions with fmatrix\n",
        "We will look at two examples that illustrate how to create, manipulate and compute using the fmatrix structure.\n",
        "The first example is the matrix transpose, which generates a new matrix.\n",
        "The second example is the matrix multiplication. It overwrites the data of an existing matrix with the result of the multiplication.\n",
        "\n",
        "We start by looking at the code. Testing the code will be discussed in the section that comes afterwards."
      ]
    },
    {
      "cell_type": "markdown",
      "metadata": {
        "id": "N45Tn8noN12W"
      },
      "source": [
        "## Matrix Addition\n",
        "Our first example is to add one matrix to another, multiplied by a scalar.\n",
        "We need to functions: One is a normal C function that is called on the host, the other is the kernel, whose code will be executed on the GPU. In this example, the host function doesn't do much more than launch the kernel.\n",
        "Have a look at the error checks, which ensure that both matrices are compatible."
      ]
    },
    {
      "cell_type": "code",
      "execution_count": 5,
      "metadata": {
        "colab": {
          "base_uri": "https://localhost:8080/"
        },
        "id": "oFrZCF7jOse1",
        "outputId": "52337294-f845-4c9f-a6c4-2ea62df89626"
      },
      "outputs": [
        {
          "name": "stdout",
          "output_type": "stream",
          "text": [
            "Writing fmatrix_add.cu\n"
          ]
        }
      ],
      "source": [
        "%%writefile fmatrix_add.cu\n",
        "#include \"fmatrix.cuh\"\n",
        "#include <assert.h>\n",
        "\n",
        "#define THREADS_PER_BLOCK 1024\n",
        "__global__\n",
        "void fmatrix_add_kernel(fmatrix P,float a,fmatrix Y) {\n",
        "    int idx = blockIdx.x*blockDim.x+threadIdx.x;\n",
        "    int j = idx / P.rows;\n",
        "    int i = idx % P.rows;\n",
        "    if (i < P.rows && j < P.cols ){\n",
        "        getfm(P,i,j) += a*getfm(Y,i,j);\n",
        "    }\n",
        "}\n",
        "\n",
        "/** Compute P = P + a*Y */\n",
        "void fmatrix_add(fmatrix P,float a,fmatrix Y) {\n",
        "    fmatrix_assert(P);\n",
        "    fmatrix_assert(Y);\n",
        "    assert(P.rows == Y.rows);\n",
        "    assert(P.cols == Y.cols);\n",
        "    int threadsPerBlock = fmatrix_elements(P);\n",
        "    int blocksPerGrid = 1;\n",
        "    if (threadsPerBlock > THREADS_PER_BLOCK){\n",
        "        blocksPerGrid = (threadsPerBlock-1)/THREADS_PER_BLOCK+1;\n",
        "        threadsPerBlock = THREADS_PER_BLOCK;\n",
        "    }\n",
        "    fmatrix_add_kernel<<< blocksPerGrid, threadsPerBlock >>>(P,a,Y);\n",
        "    gpuErrchk( cudaPeekAtLastError() );\n",
        "}"
      ]
    },
    {
      "cell_type": "markdown",
      "metadata": {
        "id": "X0SLSDrV3CLJ"
      },
      "source": [
        "Note that the implementation for add doesn't include any synchronization. This is so that you can launch adds in parallel, which is perfectly fine if the date for both tasks is independent. Here's a small example:\n",
        "```\n",
        "// Without waiting:\n",
        "fmatrix_add(P1,a,Y1);\n",
        "fmatrix_add(P2,a,Y2);\n",
        "deviceSynchronize();\n",
        "\n",
        "// Waiting between each\n",
        "fmatrix_add(P1,a,Y1);\n",
        "deviceSynchronize();\n",
        "fmatrix_add(P2,a,Y2);\n",
        "deviceSynchronize();\n",
        "```"
      ]
    },
    {
      "cell_type": "markdown",
      "metadata": {
        "id": "HnGphOO21Sc7"
      },
      "source": [
        "## Matrix Multiplication"
      ]
    },
    {
      "cell_type": "markdown",
      "metadata": {
        "id": "wNY5FKdl19Bc"
      },
      "source": [
        "Here, we will create a new matrix A that contains the product of two matrices B and C.\n"
      ]
    },
    {
      "cell_type": "code",
      "execution_count": 6,
      "metadata": {
        "colab": {
          "base_uri": "https://localhost:8080/"
        },
        "id": "5g1XwwS419Bn",
        "outputId": "5b6ffd89-da0a-4977-aaac-747a25c4ba1f"
      },
      "outputs": [
        {
          "name": "stdout",
          "output_type": "stream",
          "text": [
            "Writing fmatrix_mult.cu\n"
          ]
        }
      ],
      "source": [
        "%%writefile fmatrix_mult.cu\n",
        "#include \"fmatrix.cuh\"\n",
        "#include <assert.h>\n",
        "\n",
        "#define THREADS_PER_BLOCK 1024\n",
        "\n",
        "__global__\n",
        "void fmatrix_multiplication_kernel(fmatrix A, float f, fmatrix B, fmatrix C) {\n",
        "    // Each thread multiplies one row of B with one column of C\n",
        "    int idx = blockIdx.x*blockDim.x+threadIdx.x;\n",
        "    int j = idx / A.rows;\n",
        "    int i = idx % A.rows;\n",
        "    if (i < A.rows && j < A.cols ){\n",
        "        getfm(A,i,j) = 0.0;\n",
        "        for (int k = 0; k < B.cols; ++k) {\n",
        "          getfm(A,i,j) += f*getfm(B,i,k)*getfm(C,k,j);\n",
        "        }\n",
        "    }\n",
        "}\n",
        "\n",
        "/* Compute A = f*B*C */\n",
        "void fmatrix_mult(fmatrix A, float f, fmatrix B, fmatrix C) {\n",
        "    // First let's check for errors in the argument M.\n",
        "    // This can help a LOT when debugging.\n",
        "    // A,B,C need to have nonzero pointers etc.\n",
        "    // fmatrix_assert(A);\n",
        "    // fmatrix_assert(B);\n",
        "    // fmatrix_assert(C);\n",
        "    assert(A.rows == B.rows);\n",
        "    assert(A.cols == C.cols);\n",
        "    assert(B.cols == C.rows);\n",
        "\n",
        "    // take one thread per element, and distribute\n",
        "    // over as many blocks as necessary given\n",
        "    // the hardware limit on the number of threads per block\n",
        "    int threadsPerBlock = fmatrix_elements(A);\n",
        "    int blocksPerGrid = 1;\n",
        "    if (threadsPerBlock > THREADS_PER_BLOCK){\n",
        "        blocksPerGrid = (threadsPerBlock-1)/THREADS_PER_BLOCK+1;\n",
        "        threadsPerBlock = THREADS_PER_BLOCK;\n",
        "    }\n",
        "    fmatrix_multiplication_kernel<<< blocksPerGrid, threadsPerBlock >>>(A,f,B,C);\n",
        "    // check for errors\n",
        "    gpuErrchk( cudaPeekAtLastError() );\n",
        "    // wait for the kernel to finish\n",
        "    device_synchronize();\n",
        "}\n",
        "\n"
      ]
    },
    {
      "cell_type": "markdown",
      "metadata": {
        "id": "h_16DcZBAebJ"
      },
      "source": [
        "# Testing the Matrix Functions\n",
        "\n",
        "According to the literature, 50% to 75% percent of development time is dedicated to testing, verifying and validating code. This percentage refers to professional software developers, who know how to set up tests. If you don't test your functions individually before using them in larger pieces of code, you can easily end up spending 95% to 99% of your time debugging.\n",
        "\n",
        "In the next sections, we will look at a few techniques to quickly set up tests, first for manual, visual inspection, and then for automatic testing."
      ]
    },
    {
      "cell_type": "markdown",
      "metadata": {
        "id": "YkNoBBB1plBI"
      },
      "source": [
        "## Visual Inspection\n",
        "\n",
        "The following test code calls the add function on a random matrix and prints the result. Since the resulting values are easy to check manually, we can confirm that our function works simply by looking at the output."
      ]
    },
    {
      "cell_type": "code",
      "execution_count": 7,
      "metadata": {
        "colab": {
          "base_uri": "https://localhost:8080/"
        },
        "id": "y1Z-dg_xv3A1",
        "outputId": "b2af1463-1159-441e-8a86-156c7b6464f2"
      },
      "outputs": [
        {
          "name": "stdout",
          "output_type": "stream",
          "text": [
            "Writing test.cu\n"
          ]
        }
      ],
      "source": [
        "%%writefile test.cu\n",
        "#include \"fmatrix.cuh\"\n",
        "#include \"fmatrix_add.cu\"\n",
        "\n",
        "int main() {\n",
        "    // create a random matrix\n",
        "    fmatrix M = fmatrix_create_random_on_device(3,5);\n",
        "    printf(\"original matrix:\\n\");\n",
        "    fmatrix_device_print(M);\n",
        "    // add the matrix to itself\n",
        "    fmatrix_add(M,1.0,M);\n",
        "    // print\n",
        "    printf(\"matrix added to itself:\\n\");\n",
        "    fmatrix_device_print(M);\n",
        "    // free the memory\n",
        "    fmatrix_free_on_device(&M);\n",
        "}"
      ]
    },
    {
      "cell_type": "code",
      "execution_count": null,
      "metadata": {
        "id": "QYs_qHoSwgq4"
      },
      "outputs": [],
      "source": [
        "!nvcc -arch=sm_35 -Wno-deprecated-gpu-targets -g -G -I cuda-samples/Common/ -L/usr/local/cuda/include test.cu fmatrix.cu cuda_stuff.cu"
      ]
    },
    {
      "cell_type": "code",
      "execution_count": null,
      "metadata": {
        "colab": {
          "base_uri": "https://localhost:8080/"
        },
        "id": "5Kfx5HK6wnrq",
        "outputId": "e9f5fea0-d213-467f-bb05-0f6f1b1f4710"
      },
      "outputs": [
        {
          "name": "stdout",
          "output_type": "stream",
          "text": [
            "original matrix:\n",
            "[\n",
            "0.480439,\t-0.686023,\t-0.544713,\t-0.624402,\t0.949322;\n",
            "-0.123098,\t-0.857265,\t-0.341283,\t0.830767,\t0.094939;\n",
            "0.034025,\t-0.074983,\t-0.711869,\t0.080250,\t0.306321\n",
            "]\n",
            "matrix added to itself:\n",
            "[\n",
            "0.960877,\t-1.372046,\t-1.089427,\t-1.248804,\t1.898643;\n",
            "-0.246195,\t-1.714530,\t-0.682566,\t1.661534,\t0.189877;\n",
            "0.068051,\t-0.149966,\t-1.423739,\t0.160499,\t0.612641\n",
            "]\n"
          ]
        }
      ],
      "source": [
        "!./a.out"
      ]
    },
    {
      "cell_type": "markdown",
      "metadata": {
        "id": "IThxMp1XgAsv"
      },
      "source": [
        "## Manual Comparison with Known Solution\n",
        "\n",
        "To test the matrix multiplication, we manually define input matrices.\n",
        "We also define the expected output, assuming we know the solution. Maybe we computed it by hand or with Matlab.\n",
        "Again, we visually compare the expected output with the known solution simply by printing both."
      ]
    },
    {
      "cell_type": "code",
      "execution_count": 8,
      "metadata": {
        "colab": {
          "base_uri": "https://localhost:8080/"
        },
        "id": "C2kFIpPO1s8Y",
        "outputId": "60dc78bd-958b-4b0e-9bd6-27f7e9acbcb5"
      },
      "outputs": [
        {
          "name": "stdout",
          "output_type": "stream",
          "text": [
            "Overwriting test.cu\n"
          ]
        }
      ],
      "source": [
        "%%writefile test.cu\n",
        "#include \"fmatrix.cuh\"\n",
        "#include \"fmatrix_mult.cu\"\n",
        "\n",
        "int main() {\n",
        "    // create two matrices on the host with given values\n",
        "    fmatrix h_B = fmatrix_create_on_host(2,3);\n",
        "    fmatrix h_C = fmatrix_create_on_host(3,2);\n",
        "    // B = [ 2, 3, 4; 5, 6, 7 ]\n",
        "    getfm(h_B,0,0) = 2;\n",
        "    getfm(h_B,0,1) = 3;\n",
        "    getfm(h_B,0,2) = 4;\n",
        "    getfm(h_B,1,0) = 5;\n",
        "    getfm(h_B,1,1) = 6;\n",
        "    getfm(h_B,1,2) = 7;\n",
        "    // C = [ -1, 2; -3, 4; -5, 6 ]\n",
        "    getfm(h_C,0,0) = -1;\n",
        "    getfm(h_C,0,1) = 2;\n",
        "    getfm(h_C,1,0) = -3;\n",
        "    getfm(h_C,1,1) = 4;\n",
        "    getfm(h_C,2,0) = -5;\n",
        "    getfm(h_C,2,1) = 6;\n",
        "    // copy the matrices to the device\n",
        "    fmatrix B = fmatrix_copy_to_device(h_B);\n",
        "    fmatrix C = fmatrix_copy_to_device(h_C);\n",
        "    printf(\"matrix B:\\n\");\n",
        "    fmatrix_device_print(B);\n",
        "    printf(\"matrix C:\\n\");\n",
        "    fmatrix_device_print(C);\n",
        "    // allocate matrix A\n",
        "    fmatrix A = fmatrix_create_on_device(2,2);\n",
        "    // compute A = 3.0*B*C\n",
        "    fmatrix_mult(A,3.0,B,C);\n",
        "    // print\n",
        "    printf(\"matrix A=3*B*C:\\n\");\n",
        "    fmatrix_device_print(A);\n",
        "    fmatrix h_A_expected = fmatrix_create_on_host(2,2);\n",
        "    // A_expected = [ -93, 120; -174, 228 ]\n",
        "    getfm(h_A_expected,0,0) = -93;\n",
        "    getfm(h_A_expected,0,1) = 120;\n",
        "    getfm(h_A_expected,1,0) = -174;\n",
        "    getfm(h_A_expected,1,1) = 228;\n",
        "    printf(\"expected A:\\n\");\n",
        "    fmatrix_print(h_A_expected);\n",
        "}"
      ]
    },
    {
      "cell_type": "code",
      "execution_count": null,
      "metadata": {
        "id": "PIbBgkZH1s8Z"
      },
      "outputs": [],
      "source": [
        "!nvcc -arch=sm_35 -Wno-deprecated-gpu-targets -g -G -I cuda-samples/Common/ -L/usr/local/cuda/include test.cu fmatrix.cu cuda_stuff.cu"
      ]
    },
    {
      "cell_type": "code",
      "execution_count": null,
      "metadata": {
        "colab": {
          "base_uri": "https://localhost:8080/"
        },
        "id": "b4MDJHZ71s8Z",
        "outputId": "a2669cac-2967-4ef5-f384-614ba1dd1acf"
      },
      "outputs": [
        {
          "name": "stdout",
          "output_type": "stream",
          "text": [
            "matrix B:\n",
            "[\n",
            "2.000000,\t3.000000,\t4.000000;\n",
            "5.000000,\t6.000000,\t7.000000\n",
            "]\n",
            "matrix C:\n",
            "[\n",
            "-1.000000,\t2.000000;\n",
            "-3.000000,\t4.000000;\n",
            "-5.000000,\t6.000000\n",
            "]\n",
            "matrix A=3*B*C:\n",
            "[\n",
            "-93.000000,\t120.000000;\n",
            "-174.000000,\t228.000000\n",
            "]\n",
            "expected A:\n",
            "[\n",
            "-93.000000,\t120.000000;\n",
            "-174.000000,\t228.000000\n",
            "]\n"
          ]
        }
      ],
      "source": [
        "!./a.out"
      ]
    },
    {
      "cell_type": "markdown",
      "metadata": {
        "id": "UzlIT2mInHO9"
      },
      "source": [
        "## Comparison with Known Code (Numpy)\n",
        "For a test that is both easier to write and more reliable, let's use\n",
        "Python/Numpy to create the matrices, compute the correct result, and\n",
        "compare the result to the output of our code.\n",
        "\n",
        "We exchange the matrices between Numpy and our program using CSV files.\n",
        "First, we write our test program in C, which reads the input matrices\n",
        "from CSV files and writes the result to another CSV file."
      ]
    },
    {
      "cell_type": "code",
      "execution_count": 9,
      "metadata": {
        "colab": {
          "base_uri": "https://localhost:8080/"
        },
        "id": "GOqeRa1cqIUa",
        "outputId": "acd88c0b-96c9-494f-b322-7f40824c91b9"
      },
      "outputs": [
        {
          "name": "stdout",
          "output_type": "stream",
          "text": [
            "Overwriting test.cu\n"
          ]
        }
      ],
      "source": [
        "%%writefile test.cu\n",
        "#include \"fmatrix.cuh\"\n",
        "#include \"fmatrix_mult.cu\"\n",
        "\n",
        "int main() {\n",
        "    // read two matrices on the host from csv files\n",
        "    fmatrix B = fmatrix_device_from_csv(\"test_B.csv\");\n",
        "    fmatrix C = fmatrix_device_from_csv(\"test_C.csv\");\n",
        "    // allocate matrix A\n",
        "    fmatrix A = fmatrix_create_on_device(B.rows,C.cols);\n",
        "\n",
        "    // compute A = 3.0*B*C\n",
        "    fmatrix_mult(A,3.0,B,C);\n",
        "\n",
        "    fmatrix_device_to_csv(\"test_A.csv\",A);\n",
        "\n",
        "    fmatrix_free_on_device(&B);\n",
        "    fmatrix_free_on_device(&C);\n",
        "    fmatrix_free_on_device(&A);\n",
        "}"
      ]
    },
    {
      "cell_type": "markdown",
      "metadata": {
        "id": "bqa38RQK3Yqi"
      },
      "source": [
        "We need to compile our program so that we can call it from Python."
      ]
    },
    {
      "cell_type": "code",
      "execution_count": null,
      "metadata": {
        "id": "vHQZL5WqqP11"
      },
      "outputs": [],
      "source": [
        "!nvcc -arch=sm_35 -Wno-deprecated-gpu-targets -g -G -I cuda-samples/Common/ -L/usr/local/cuda/include test.cu fmatrix.cu cuda_stuff.cu"
      ]
    },
    {
      "cell_type": "code",
      "execution_count": null,
      "metadata": {
        "colab": {
          "base_uri": "https://localhost:8080/"
        },
        "id": "SJfXbzBVXzhl",
        "outputId": "e838c9de-ec18-4fb7-bb13-4eae1a098812"
      },
      "outputs": [
        {
          "name": "stdout",
          "output_type": "stream",
          "text": [
            "Cannot open file.\n",
            "a.out: fmatrix.cu:34: fmatrix fmatrix_create_on_host(int, int): Assertion `cols>0' failed.\n"
          ]
        }
      ],
      "source": [
        "!./a.out"
      ]
    },
    {
      "cell_type": "markdown",
      "metadata": {
        "id": "McLNjYZT3dqq"
      },
      "source": [
        "Now comes the test program in Python. We create test inputs, save them\n",
        "to CSV files, then call our test code, read its output from a CSV file.\n",
        "Then we carry out the same computation in Numpy and compare its result\n",
        "with our test output."
      ]
    },
    {
      "cell_type": "code",
      "execution_count": null,
      "metadata": {
        "colab": {
          "base_uri": "https://localhost:8080/"
        },
        "id": "85VT8kA8no5m",
        "outputId": "f282a75c-00fb-4cb1-bb70-7c1fbae532a5"
      },
      "outputs": [
        {
          "name": "stdout",
          "output_type": "stream",
          "text": [
            "From C code:\n",
            " [[174. 192.]\n",
            " [417. 462.]]\n",
            "From Numpy code:\n",
            " [[174. 192.]\n",
            " [417. 462.]]\n",
            "Test passed? True\n"
          ]
        }
      ],
      "source": [
        "import numpy as np\n",
        "# create test inputs\n",
        "B = np.array([[1,2,3],[4,5,6]])\n",
        "C = np.array([[7,8],[9,10],[11,12]])\n",
        "# and write them to a file\n",
        "np.savetxt(\"test_B.csv\",B,delimiter=',')\n",
        "np.savetxt(\"test_C.csv\",C,delimiter=',')\n",
        "# call test code\n",
        "!./a.out\n",
        "# read the result of the test code\n",
        "# Note: ndmin=2 since we want a 2D-matrix\n",
        "#       (otherwise it can be flattend to a vector)\n",
        "A_test = np.loadtxt(\"test_A.csv\",delimiter=',',ndmin=2)\n",
        "print(\"From C code:\\n\",A_test)\n",
        "# compute the correct result\n",
        "A = 3.0*B@C\n",
        "print(\"From Numpy code:\\n\",A)\n",
        "# compare correct result with test output\n",
        "result = np.allclose(A,A_test)\n",
        "print(\"Test passed?\", result)"
      ]
    },
    {
      "cell_type": "markdown",
      "metadata": {
        "id": "VaqKIQjpB5P0"
      },
      "source": [
        "## Random Test Inputs (with Numpy)\n",
        "\n",
        "How do we pick good test inputs? Did we think of all tricky situations (say, matrices that are column or row vectors)?\n",
        "Instead of manually choosing test inputs, we can carry out a (potentially large) number of random tests."
      ]
    },
    {
      "cell_type": "code",
      "execution_count": null,
      "metadata": {
        "colab": {
          "base_uri": "https://localhost:8080/"
        },
        "id": "8lvmrFnyCaEg",
        "outputId": "1b3c18c7-56f4-42bf-f558-64f41882300c"
      },
      "outputs": [
        {
          "name": "stdout",
          "output_type": "stream",
          "text": [
            "All random  50  test passed.\n",
            "CPU times: user 593 ms, sys: 369 ms, total: 962 ms\n",
            "Wall time: 47.1 s\n"
          ]
        }
      ],
      "source": [
        "%%time\n",
        "import numpy as np\n",
        "from random import randint\n",
        "\n",
        "nb_tests = 50\n",
        "max_dimension = 5\n",
        "\n",
        "for i in range(nb_tests):\n",
        "  # create test inputs\n",
        "  # choose random matrix dimensions\n",
        "  n = randint(1,max_dimension)\n",
        "  m = randint(1,max_dimension)\n",
        "  k = randint(1,max_dimension)\n",
        "  B = np.random.rand(n,k)\n",
        "  C = np.random.rand(k,m)\n",
        "  # and write them to a file\n",
        "  np.savetxt(\"test_B.csv\",B,delimiter=',')\n",
        "  np.savetxt(\"test_C.csv\",C,delimiter=',')\n",
        "  # call test code\n",
        "  !./a.out\n",
        "  # read the result of the test code\n",
        "  A_test = np.loadtxt(\"test_A.csv\",delimiter=',',ndmin=2)\n",
        "  # print(\"From C code:\\n\",A_test)\n",
        "  # compute the correct result\n",
        "  A = 3.0*B@C\n",
        "  # print(\"From Numpy code:\\n\",A)\n",
        "  # compare correct result with test output\n",
        "  result = np.allclose(A,A_test)\n",
        "  if not result:\n",
        "    print(\"Wrong test result:\")\n",
        "    print(\"B:\\n\",B)\n",
        "    print(\"C:\\n\",C)\n",
        "    print(\"expected:\\n\",A)\n",
        "    print(\"got wrong result:\\n\",A_test)\n",
        "    break\n",
        "if result:\n",
        "  print(\"All random \",nb_tests,\" test passed.\")\n",
        "\n"
      ]
    },
    {
      "cell_type": "markdown",
      "metadata": {
        "id": "17aUKkNJqTDZ"
      },
      "source": [
        "# Debugging\n",
        "We assume that you already compiled with debugging info on the host (`-g`) and device (`-G`).\n"
      ]
    },
    {
      "cell_type": "markdown",
      "metadata": {
        "id": "FkuaGO10rRm9"
      },
      "source": [
        "Run the debugger cuda-gdb, stopping at the first error that is detected. Shows first the call stack on the GPU, the values of local variables, then the call stack on the host (thread 1)."
      ]
    },
    {
      "cell_type": "code",
      "execution_count": null,
      "metadata": {
        "colab": {
          "base_uri": "https://localhost:8080/"
        },
        "id": "vZ8nAtzGTRgH",
        "outputId": "e5947554-bedb-4917-bd78-02ee69f588a3"
      },
      "outputs": [
        {
          "name": "stdout",
          "output_type": "stream",
          "text": [
            "set cuda memcheck on\n",
            "set cuda api_failures stop\n",
            "catch throw\n",
            "r\n",
            "bt\n",
            "info locals\n",
            "thread 1\n",
            "bt\n",
            "Catchpoint 1 (throw)\n",
            "warning: Error disabling address space randomization: Operation not permitted\n",
            "[Thread debugging using libthread_db enabled]\n",
            "Using host libthread_db library \"/lib/x86_64-linux-gnu/libthread_db.so.1\".\n",
            "[New Thread 0x7f7d0a62c000 (LWP 1534)]\n",
            "[Detaching after fork from child process 1535]\n",
            "[New Thread 0x7f7d09aff000 (LWP 1540)]\n",
            "[New Thread 0x7f7d092fe000 (LWP 1541)]\n",
            "[Thread 0x7f7d09aff000 (LWP 1540) exited]\n",
            "[Thread 0x7f7d0a62c000 (LWP 1534) exited]\n",
            "[Thread 0x7f7d0cdce000 (LWP 1529) exited]\n",
            "[Inferior 1 (process 1529) exited normally]\n",
            "tmp.txt:5: Error in sourced command file:\n",
            "No stack.\n"
          ]
        }
      ],
      "source": [
        "! printf \"set cuda memcheck on\\nset cuda api_failures stop\\ncatch throw\\nr\\nbt\\ninfo locals\\nthread 1\\nbt\\n\" > tmp.txt\n",
        "! cat tmp.txt\n",
        "! cuda-gdb -batch -x tmp.txt ./a.out"
      ]
    },
    {
      "cell_type": "code",
      "execution_count": null,
      "metadata": {
        "colab": {
          "base_uri": "https://localhost:8080/"
        },
        "id": "VGJ6uVNBVHUs",
        "outputId": "f1e12ffa-b5d7-4924-ee74-e7c06b502310"
      },
      "outputs": [
        {
          "name": "stdout",
          "output_type": "stream",
          "text": [
            "========= CUDA-MEMCHECK\n",
            "========= This tool is deprecated and will be removed in a future release of the CUDA toolkit\n",
            "========= Please use the compute-sanitizer tool as a drop-in replacement\n",
            "========= ERROR SUMMARY: 0 errors\n"
          ]
        }
      ],
      "source": [
        "!cuda-memcheck ./a.out"
      ]
    }
  ],
  "metadata": {
    "accelerator": "GPU",
    "colab": {
      "provenance": [],
      "toc_visible": true
    },
    "kernelspec": {
      "display_name": "Python 3",
      "name": "python3"
    },
    "language_info": {
      "codemirror_mode": {
        "name": "ipython",
        "version": 3
      },
      "file_extension": ".py",
      "mimetype": "text/x-python",
      "name": "python",
      "nbconvert_exporter": "python",
      "pygments_lexer": "ipython3",
      "version": "3.10.13"
    }
  },
  "nbformat": 4,
  "nbformat_minor": 0
}
